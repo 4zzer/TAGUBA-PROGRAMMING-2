{
 "cells": [
  {
   "cell_type": "code",
   "execution_count": null,
   "metadata": {},
   "outputs": [],
   "source": [
    "sentence = input(\"Enter a sample sentence: \").lower() #input the whole sentence\n",
    "print(sentence)\n",
    "\n",
    "word = sentence.split() # split the whole sentence into by words\n",
    "dicts_word = {} # the dictionary where the words will be put in\n",
    "\n",
    "for dict in word: # it will get a 1 word in the variable word then run through the if else\n",
    "    if dict in dicts_word:\n",
    "        dicts_word[dict] += 1 # if the word is already exist on the dictionary, it will add 1 to the current value\n",
    "    else:\n",
    "        dicts_word[dict] = 1 # if not, it will put a value of 1\n",
    "\n",
    "print(dicts_word)\n"
   ]
  },
  {
   "cell_type": "code",
   "execution_count": null,
   "metadata": {},
   "outputs": [],
   "source": [
    "exchange_rate = {\n",
    "    'USD': 1.00,\n",
    "    'EUR': 0.84,\n",
    "    'GBP': 0.72,\n",
    "    'JPY': 109.98,\n",
    "    'AUD': 1.33,\n",
    "    'CAD': 1.26,\n",
    "    'CHF': 0.92,\n",
    "    'CNY': 6.46,\n",
    "    'HKD': 7.76,\n",
    "    'NZD': 1.43,\n",
    "    }\n",
    "\n",
    "money = int(input('Enter an amount: '))\n",
    "source_currency = input('Enter the source curreny: ').upper()\n",
    "target_currency = input('Enter the target curreny: ').upper()\n",
    "\n",
    "if source_currency in exchange_rate:\n",
    "    if target_currency in exchange_rate:\n",
    "      conversion = money / exchange_rate[source_currency] * exchange_rate[target_currency]\n",
    "      print(f'{money} {source_currency} = {conversion} {target_currency}')\n",
    "    else: \n",
    "       print('inbalid')\n",
    "else:\n",
    "    print('inbalid')\n",
    "  "
   ]
  }
 ],
 "metadata": {
  "kernelspec": {
   "display_name": "Python 3",
   "language": "python",
   "name": "python3"
  },
  "language_info": {
   "codemirror_mode": {
    "name": "ipython",
    "version": 3
   },
   "file_extension": ".py",
   "mimetype": "text/x-python",
   "name": "python",
   "nbconvert_exporter": "python",
   "pygments_lexer": "ipython3",
   "version": "3.11.9"
  }
 },
 "nbformat": 4,
 "nbformat_minor": 2
}
