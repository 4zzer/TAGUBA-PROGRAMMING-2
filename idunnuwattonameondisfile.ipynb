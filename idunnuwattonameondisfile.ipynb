{
 "cells": [
  {
   "cell_type": "code",
   "execution_count": null,
   "metadata": {},
   "outputs": [
    {
     "name": "stdout",
     "output_type": "stream",
     "text": [
      "The forty cant add coz its a word\n",
      "Total: 60\n"
     ]
    }
   ],
   "source": [
    "#ERROR HANDLING AND EXCEPTIONS\n",
    "#LOGIC ERROR VS EXCEPTION ERROR\n",
    "\n",
    "items = [10, '20', 30, 'forty']\n",
    "total = 0\n",
    "for item in items:  #isinstance? nahhhh I'd do manual\n",
    "    if type(item) == int:\n",
    "        total += item\n",
    "    elif type(item) == str and item.isalpha():  \n",
    "        print('The', item, 'cant add coz its a word')\n",
    "    else:\n",
    "        x = int(item)\n",
    "        total += x\n",
    "print('Total:', total)"
   ]
  },
  {
   "cell_type": "code",
   "execution_count": null,
   "metadata": {},
   "outputs": [
    {
     "name": "stdout",
     "output_type": "stream",
     "text": [
      "Multiplication result: 20\n"
     ]
    }
   ],
   "source": [
    "def multiply_numbers(a, b):\n",
    "    if type(a) == int and type(b) == int:\n",
    "        return a*b\n",
    "    elif type(a) == str and a.isalpha():\n",
    "        print('No u')\n",
    "    elif type(b) == str and b.isalpha():\n",
    "        print('No u')\n",
    "    else:\n",
    "        x = int(a)\n",
    "        y = int(b)\n",
    "        return x*y\n",
    "\n",
    "result = multiply_numbers('10', 2)\n",
    "print('Multiplication result:', result)"
   ]
  },
  {
   "cell_type": "code",
   "execution_count": 3,
   "metadata": {},
   "outputs": [
    {
     "name": "stdout",
     "output_type": "stream",
     "text": [
      "womp womp\n",
      "womp womp\n",
      "2\n"
     ]
    }
   ],
   "source": [
    "while True:\n",
    "    try:\n",
    "        num1 = int(input())\n",
    "        num2 = int(input())\n",
    "        result = num1 * num2\n",
    "        print(result)\n",
    "        break\n",
    "    except ValueError:\n",
    "        print('womp womp')\n"
   ]
  },
  {
   "cell_type": "code",
   "execution_count": 24,
   "metadata": {},
   "outputs": [
    {
     "name": "stdout",
     "output_type": "stream",
     "text": [
      "hatdog ka\n"
     ]
    }
   ],
   "source": [
    "txt = \"CompanyX\"\n",
    "\n",
    "if txt.isalpha():\n",
    "    print('hatdog ka')\n",
    "else:\n",
    "    print('guds')"
   ]
  },
  {
   "cell_type": "code",
   "execution_count": 27,
   "metadata": {},
   "outputs": [
    {
     "name": "stdout",
     "output_type": "stream",
     "text": [
      "this shet is integer\n",
      "I guess dis is numbah but sring\n",
      "this shet is integer\n",
      "this hab alphas\n"
     ]
    }
   ],
   "source": [
    "items = [10, '20', 30, 'forty']\n",
    "\n",
    "for x in items:\n",
    "    if type(x) == int:\n",
    "        print('this shet is integer')\n",
    "    elif type(x) == str and x.isalpha():\n",
    "        print('this hab alphas')\n",
    "    else:\n",
    "        print('I guess dis is numbah but sring')\n",
    "        "
   ]
  }
 ],
 "metadata": {
  "kernelspec": {
   "display_name": "Python 3",
   "language": "python",
   "name": "python3"
  },
  "language_info": {
   "codemirror_mode": {
    "name": "ipython",
    "version": 3
   },
   "file_extension": ".py",
   "mimetype": "text/x-python",
   "name": "python",
   "nbconvert_exporter": "python",
   "pygments_lexer": "ipython3",
   "version": "3.11.9"
  }
 },
 "nbformat": 4,
 "nbformat_minor": 2
}
